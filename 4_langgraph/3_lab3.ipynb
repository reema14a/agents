{
  "cells": [
    {
      "cell_type": "markdown",
      "metadata": {},
      "source": [
        "## Welcome to Week 4, Day 4\n",
        "\n",
        "This is the start of an AWESOME project! Really simple and very effective."
      ]
    },
    {
      "cell_type": "markdown",
      "metadata": {},
      "source": [
        "### First - a heads up for Windows PC users\n",
        "\n",
        "While executing this notebook, you might hit a problem with the Playwright browser raising a NotImplementedError.\n",
        "\n",
        "This should work when we move to python modules, but it can cause problems in Windows in a notebook.\n",
        "\n",
        "If you it this error and would like to run the notebook, you need to make a small change which seems quite hacky!\n",
        "\n",
        "1. Right click in `.venv` in the File Explorer on the left and select \"Find in folder\"\n",
        "2. Search for `asyncio.set_event_loop_policy(WindowsSelectorEventLoopPolicy())`  \n",
        "3. That code should be found in a line of code in a file called `kernelapp.py`\n",
        "4. Comment out that line of code in that file! And save the file.\n",
        "5. Restart the kernel by pressing the \"Restart\" button above\n",
        "\n",
        "Thank you to student Nicolas for finding this, and to Yaki, Zibin and Bhaskar for confirming that this worked for them!"
      ]
    },
    {
      "cell_type": "code",
      "execution_count": 1,
      "metadata": {},
      "outputs": [],
      "source": [
        "from typing import Annotated\n",
        "from typing_extensions import TypedDict\n",
        "from langgraph.graph import StateGraph, START\n",
        "from langgraph.graph.message import add_messages\n",
        "from dotenv import load_dotenv\n",
        "from IPython.display import Image, display\n",
        "import gradio as gr\n",
        "\n",
        "from langgraph.prebuilt import ToolNode, tools_condition\n",
        "import requests\n",
        "import os\n",
        "from langchain.agents import Tool\n",
        "\n",
        "from langchain_google_genai.chat_models import ChatGoogleGenerativeAI\n",
        "from langgraph.checkpoint.memory import MemorySaver"
      ]
    },
    {
      "cell_type": "code",
      "execution_count": 2,
      "metadata": {},
      "outputs": [
        {
          "data": {
            "text/plain": [
              "True"
            ]
          },
          "execution_count": 2,
          "metadata": {},
          "output_type": "execute_result"
        }
      ],
      "source": [
        "load_dotenv(override=True)"
      ]
    },
    {
      "cell_type": "markdown",
      "metadata": {},
      "source": [
        "### Asynchronous LangGraph\n",
        "\n",
        "To run a tool:  \n",
        "Sync: `tool.run(inputs)`  \n",
        "Async: `await tool.arun(inputs)`\n",
        "\n",
        "To invoke the graph:  \n",
        "Sync: `graph.invoke(state)`  \n",
        "Async: `await graph.ainvoke(state)`"
      ]
    },
    {
      "cell_type": "code",
      "execution_count": 3,
      "metadata": {},
      "outputs": [],
      "source": [
        "class State(TypedDict):\n",
        "    \n",
        "    messages: Annotated[list, add_messages]\n",
        "\n",
        "\n",
        "graph_builder = StateGraph(State)"
      ]
    },
    {
      "cell_type": "code",
      "execution_count": 4,
      "metadata": {},
      "outputs": [],
      "source": [
        "pushover_token = os.getenv(\"PUSHOVER_TOKEN\")\n",
        "pushover_user = os.getenv(\"PUSHOVER_USER\")\n",
        "pushover_url = \"https://api.pushover.net/1/messages.json\"\n",
        "\n",
        "def push(text: str):\n",
        "    \"\"\"Send a push notification to the user\"\"\"\n",
        "    requests.post(pushover_url, data = {\"token\": pushover_token, \"user\": pushover_user, \"message\": text})\n",
        "\n",
        "tool_push = Tool(\n",
        "        name=\"send_push_notification\",\n",
        "        func=push,\n",
        "        description=\"useful for when you want to send a push notification\"\n",
        "    )"
      ]
    },
    {
      "cell_type": "markdown",
      "metadata": {},
      "source": [
        "### Next: Install Playwright\n",
        "\n",
        "On Windows and MacOS:  \n",
        "`playwright install`\n",
        "\n",
        "On Linux:  \n",
        "`playwright install —with-reps chromium`"
      ]
    },
    {
      "cell_type": "markdown",
      "metadata": {},
      "source": [
        "### Introducing nest_asyncio\n",
        "\n",
        "Python async code only allows for one \"event loop\" processing aynchronous events.\n",
        "\n",
        "The `nest_asyncio` library patches this, and is used for special situations, if you need to run a nested event loop.\n",
        "\n"
      ]
    },
    {
      "cell_type": "code",
      "execution_count": 5,
      "metadata": {},
      "outputs": [],
      "source": [
        "import nest_asyncio\n",
        "nest_asyncio.apply()"
      ]
    },
    {
      "cell_type": "markdown",
      "metadata": {},
      "source": [
        "### The LangChain community\n",
        "\n",
        "One of the remarkable things about LangChain is the rich community around it.\n",
        "\n",
        "Check this out:\n"
      ]
    },
    {
      "cell_type": "code",
      "execution_count": 6,
      "metadata": {},
      "outputs": [],
      "source": [
        "from langchain_community.agent_toolkits import PlayWrightBrowserToolkit\n",
        "from langchain_community.tools.playwright.utils import create_async_playwright_browser\n",
        "\n",
        "async_browser =  create_async_playwright_browser(headless=False)  # headful mode\n",
        "toolkit = PlayWrightBrowserToolkit.from_browser(async_browser=async_browser)\n",
        "tools = toolkit.get_tools()"
      ]
    },
    {
      "cell_type": "code",
      "execution_count": 7,
      "metadata": {},
      "outputs": [
        {
          "name": "stdout",
          "output_type": "stream",
          "text": [
            "click_element=async_browser=<Browser type=<BrowserType name=chromium executable_path=/Users/reema14a/Library/Caches/ms-playwright/chromium-1169/chrome-mac/Chromium.app/Contents/MacOS/Chromium> version=136.0.7103.25>\n",
            "navigate_browser=async_browser=<Browser type=<BrowserType name=chromium executable_path=/Users/reema14a/Library/Caches/ms-playwright/chromium-1169/chrome-mac/Chromium.app/Contents/MacOS/Chromium> version=136.0.7103.25>\n",
            "previous_webpage=async_browser=<Browser type=<BrowserType name=chromium executable_path=/Users/reema14a/Library/Caches/ms-playwright/chromium-1169/chrome-mac/Chromium.app/Contents/MacOS/Chromium> version=136.0.7103.25>\n",
            "extract_text=async_browser=<Browser type=<BrowserType name=chromium executable_path=/Users/reema14a/Library/Caches/ms-playwright/chromium-1169/chrome-mac/Chromium.app/Contents/MacOS/Chromium> version=136.0.7103.25>\n",
            "extract_hyperlinks=async_browser=<Browser type=<BrowserType name=chromium executable_path=/Users/reema14a/Library/Caches/ms-playwright/chromium-1169/chrome-mac/Chromium.app/Contents/MacOS/Chromium> version=136.0.7103.25>\n",
            "get_elements=async_browser=<Browser type=<BrowserType name=chromium executable_path=/Users/reema14a/Library/Caches/ms-playwright/chromium-1169/chrome-mac/Chromium.app/Contents/MacOS/Chromium> version=136.0.7103.25>\n",
            "current_webpage=async_browser=<Browser type=<BrowserType name=chromium executable_path=/Users/reema14a/Library/Caches/ms-playwright/chromium-1169/chrome-mac/Chromium.app/Contents/MacOS/Chromium> version=136.0.7103.25>\n"
          ]
        }
      ],
      "source": [
        "for tool in tools:\n",
        "    print(f\"{tool.name}={tool}\")"
      ]
    },
    {
      "cell_type": "code",
      "execution_count": 8,
      "metadata": {},
      "outputs": [],
      "source": [
        "tool_dict = {tool.name:tool for tool in tools}\n",
        "\n",
        "navigate_tool = tool_dict.get(\"navigate_browser\")\n",
        "extract_text_tool = tool_dict.get(\"extract_text\")\n",
        "\n",
        "    \n",
        "await navigate_tool.arun({\"url\": \"https://www.cnn.com\"})\n",
        "text = await extract_text_tool.arun({})"
      ]
    },
    {
      "cell_type": "code",
      "execution_count": 9,
      "metadata": {},
      "outputs": [
        {
          "name": "stdout",
          "output_type": "stream",
          "text": [
            "Breaking News, Latest News and Videos | CNN CNN values your feedback\n",
            "1. How relevant is this ad to you? 2. Did you encounter any technical\n",
            "issues? No Video player was slow to load content Video content never\n",
            "loaded Ad froze or did not finish loading Video content did not start\n",
            "after ad Audio on ad was too loud Other issues Ad never loaded Ad\n",
            "prevented/slowed the page from loading Content moved around while ad\n",
            "loaded Ad was repetitive to ads I've seen previously Other issues\n",
            "Cancel Submit Thank You! Your effort and contribution in providing\n",
            "this feedback is much\n",
            "appreciated. Close Ad Feedback Close icon US World Politics Business\n",
            "Health Entertainment Style Travel Sports Science Climate Weather\n",
            "Ukraine-Russia War Israel-Hamas War Games More US World Politics\n",
            "Business Health Entertainment Style Travel Sports Science Climate\n",
            "Weather Ukraine-Russia War Israel-Hamas War Games Watch Listen Live TV\n",
            "Subscribe Sign in My Account Settings Newsletters Topics you follow\n",
            "Sign out Your CNN account Sign in to your CNN account Sign in My\n",
            "Account Settings Newsletters Topics you follow Sign out Your CNN\n",
            "account Sign in to your CNN account Live TV Listen Watch Edition US\n",
            "International Arabic Español Edition US International Arabic Español\n",
            "World Africa Americas Asia Australia China Europe India Middle East\n",
            "United Kingdom US Politics Trump Facts First CNN Polls 2025 Elections\n",
            "Business Tech Media Calculators Videos Markets Pre-markets After-Hours\n",
            "Fear & Greed Investing Markets Now Nightcap Health Life, But Better\n",
            "Fitness Food Sleep Mindfulness Relationships Entertainment Movies\n",
            "Television Celebrity Tech Innovate Foreseeable Future Mission: Ahead\n",
            "Work Transformed Innovative Cities Style Arts Design Fashion\n",
            "Architecture Luxury Beauty Video Travel Destinations Food & Drink Stay\n",
            "News Videos Sports Football Tennis Golf Motorsport US Sports Olympics\n",
            "Climbing Esports Hockey Science Space Life Unearthed Climate Solutions\n",
            "Weather Weather Video Climate Ukraine-Russia War Israel-Hamas War\n",
            "Features As Equals Call to Earth Freedom Project Impact Your World\n",
            "Inside Africa CNN Heroes Watch Live TV CNN Fast Shows A-Z CNN10 CNN\n",
            "Max CNN TV Schedules Listen CNN 5 Things Chasing Life with Dr. Sanjay\n",
            "Gupta The Assignment with Audie Cornish One Thing Tug of War CNN\n",
            "Political Briefing The Axe Files All There Is with Anderson Cooper All\n",
            "CNN Audio podcasts Games Daily Crossword Jumble Crossword Sudoblock\n",
            "Sudoku 5 Things Quiz About CNN Photos Investigations CNN Profiles CNN\n",
            "Leadership CNN Newsletters Work for CNN Follow CNN Israel’s ground\n",
            "offensive in Gaza Ukraine, Russia say drone strikes continue Biden’s\n",
            "prostate cancer diagnosis ‘Napalm Girl’ China’s rare earths control\n",
            "Alexander Skarsgård Girl's mission to keep family alive as famine\n",
            "looms in Gaza Show all CNN Jana, aged 12, struggles to even fill a\n",
            "bucket of water as catastrophic hunger plagues the enclave UK pauses\n",
            "trade talks with Israel as pressure grows on Netanyahu to halt Gaza\n",
            "siege Here’s what we know about Israel’s new offensive • Video 4:25\n",
            "Reuters Video Video captures chaos during Gaza food drive amid famine\n",
            "warnings 4:25 • Video 3:52 CNN Video Gaza Humanitarian Foundation\n",
            "director explains plans to get aid into Gaza 3:52 • Video 5:51 CNN\n",
            "Video Freed hostage’s parents describe long-awaited reunion with son\n",
            "5:51 Sebnem Coskun/Anadolu Agency/Getty Images The world’s ice sheets\n",
            "just got a dire prognosis, and coastlines are going to pay the price\n",
            "Who is watching for earthquakes, volcanoes and tsunamis? Trump is\n",
            "cutting the guardians at the gate • Analysis Analysis Sergei\n",
            "Supinsky/AFP/Getty Images Analysis Trump sides with Putin in Ukraine\n",
            "conversation Russian fighter jet protects ‘shadow fleet’ vessel in\n",
            "first such move by Moscow, officials say • Live Updates Live Updates\n",
            "Kylie Cooper/Reuters Live Updates Former assistant to Sean ‘Diddy’\n",
            "Combs continues his testimony today Chip Somodevilla/Getty Images\n",
            "Democrats were shocked at Biden’s decline but stayed quiet: new book\n",
            "Sameer Al-Doumy/AFP/Getty Images How Alexander Skarsgård’s tall\n",
            "leather boots stomped all over gender norms • Video 1:05 CNN Video Are\n",
            "these celebrities trying to dodge the draft in Taiwan? 1:05 Ad\n",
            "Feedback • Live Updates Live Updates Ken Cedeno/Reuters Live Updates\n",
            "Trump warns House Republicans not to touch Medicaid during visit to\n",
            "Capitol Hill, sources say Trump looks to end House Republicans’\n",
            "squabbling over agenda bill as sticking points remain Sources\n",
            "contradict Trump narrative about Qatar offering plane as ‘gift’ Iran’s\n",
            "supreme leader says US-Iran talks unlikely to succeed First major\n",
            "piece of Bayesian superyacht recovered from seabed Video Witnesses\n",
            "testify on Diddy’s alleged abuse of Cassie Ventura 1:55 Alana Paterson\n",
            "for CNN How Trump’s stance toward Canada has changed life in this\n",
            "border town Richard Shotwell/Invision/AP The hottest red carpet trend\n",
            "is jewelry you can’t buy Brendan Barrett/Max Planck Institute of\n",
            "Animal Behavior These monkeys are kidnapping babies of another\n",
            "species, perplexing scientists Ad Feedback Indiana Department of\n",
            "Correction/AP Man executed for the 2000 killing of a police officer in\n",
            "Indiana’s second execution in 15 years May 20, 2025 Nathan\n",
            "Howard/Reuters Prostate cancer is the second-leading cause of cancer\n",
            "death in US males. Here’s what we know about Biden’s diagnosis May 20,\n",
            "2025 Videos show the moment a Mexican Navy training ship crashed\n",
            "against the Brooklyn Bridge in Brooklyn, New York Saturday. TrystanNFT\n",
            "/ X Video Source says what may have caused Mexican ship’s crash into\n",
            "Brooklyn Bridge 2:28 May 19, 2025 Ad Feedback Richard Atrero de\n",
            "Guzman/Anadolu Agency/Getty Images/File Four arrested under Tokyo’s\n",
            "strict yakuza gang laws – but not for the reason you think Jyoti\n",
            "Malhotra Indian YouTuber who documented her travel to Pakistan\n",
            "arrested for allegedly spying Stringer/Reuters China isn’t getting rid\n",
            "of its controls over rare earths, despite trade truce with US • Video\n",
            "2:42 Harry Jaggard Video North Korea abruptly closes border after\n",
            "welcoming Western visitors 2:42 Shutterstock Dare to bare: 25 of the\n",
            "world’s best nude beaches Berfin Yilmaz/Georgia Barrett/TikTok Now\n",
            "Tiktokers are filming their beauty routines on airplanes. Here’s what\n",
            "everyone else thinks about it Issei Kato/Reuters A Japanese manga\n",
            "claims a natural disaster is imminent. Now, some tourists are\n",
            "canceling their trips Laurent Maous/Gamma-Rapho/Getty Images Jim\n",
            "Morrison’s stolen grave bust found after 37 years Oreo Selena Gomez\n",
            "created this first-ever Oreo flavor Cyril Marcilhacy/Bloomberg/Getty\n",
            "Images Jamie Dimon warns that investors are showing ‘extraordinary\n",
            "amount of complacency’ • Video 1:32 CNN Video Watch this CNN producer\n",
            "try eating live octopus 1:32 Ad Feedback Featured Sections Space and\n",
            "science Danielle Dufault/ROM Ancient three-eyed predator was ‘unlike\n",
            "any living animal’ 19th century shipwreck discovered off Australian\n",
            "coast highlights once common maritime ‘side hustle’ 4 people sought\n",
            "shelter from the eruption of Mount Vesuvius — and sealed their own\n",
            "fates Hundreds of artifacts reveal where the Aztecs got their obsidian\n",
            "Global Travel Show all Yuji Beleza The polyglot next door: How one man\n",
            "found global fame by speaking dozens of languages They want to climb\n",
            "Everest in a week using an anesthetic gas. Critics warn it’s dangerous\n",
            "Global Airlines promised luxurious flights on a fleet of A380\n",
            "superjumbos. The launch is somewhat different Rising waters and\n",
            "overtourism are killing Venice. Now the fight is on to save its soul\n",
            "Ad Feedback Global Business Paul Yeung/Bloomberg/Getty Images This\n",
            "Chinese company shrugs off trade tension to surge in stock debut after\n",
            "clinching year’s biggest IPO Trump’s tax cut faces a new snag:\n",
            "America’s debt crisis is back in the spotlight This gremlin-looking\n",
            "toy from China is proving to be tariff-proof Scott Bessent says tariff\n",
            "rates will return to ‘reciprocal’ levels if countries don’t reach\n",
            "trade deals with US Style Photo Illustration by Jason\n",
            "Lancaster/CNN/Getty Images She spent $2,600 on a designer bag from a\n",
            "trusted store. Was it a fake? Video Why guests keep breaking the rules\n",
            "on this red carpet 2:27 Marlene Dumas painting sets new record for\n",
            "living female artist Melania Trump bronze statue disappearance\n",
            "investigated by police SPORT Show all Gary A. Vasquez/Imagn\n",
            "Images/Reuters Shohei Ohtani hits MLB-leading 17th home run of the\n",
            "season as Dodgers lose fourth straight Behind brilliant Shai Gilgeous-\n",
            "Alexander, OKC Thunder rout Nikola Jokić and the Denver Nuggets in\n",
            "Game 7 Scottie Scheffler captures first PGA Championship and third\n",
            "major win WNBA investigating reports of racial slurs directed towards\n",
            "Angel Reese Ad Feedback US Politics Kayla Bartkowski/Getty Images US\n",
            "Supreme Court lets Trump move toward ending temporary deportation\n",
            "protections for Venezuelans Major sticking points unresolved as\n",
            "Johnson races to push Trump’s massive policy bill through House by\n",
            "Thursday Alito and Roberts take stock as they near their third decade\n",
            "on the bench Analysis Trump faces 2 challenges that put credibility on\n",
            "the line health and wellness Ramsey Solutions Here’s how one podcaster\n",
            "is putting aside politics to connect with hurting people The\n",
            "surprising benefits of going to bed angry at your partner First on\n",
            "CNN: Dangerously high levels of arsenic and cadmium found in store-\n",
            "bought rice, report finds Analysis #SkinnyTok, the latest weight-loss\n",
            "trend, is more dangerous than you think Tech Mateusz Slodkowski/SOPA\n",
            "Image/Shutterstock Spotify is scrambling to remove dozens of podcasts\n",
            "promoting online prescription drug sales Elon Musk’s Grok AI chatbot\n",
            "brought up ‘white genocide’ in unrelated queries Fox News gets a win\n",
            "in Smartmatic defamation case Apple may owe you money. Here’s how to\n",
            "get it Photos You Should See • Gallery Gallery Markus Schreiber/AP\n",
            "Gallery The week in 33 photos • Gallery Gallery Luiz Thiago de\n",
            "Jesus/AMLD Gallery Back from the brink: Golden lion tamarin • Gallery\n",
            "Gallery David Hume Kennerly/Getty Images Gallery People we’ve lost in\n",
            "2025 • Gallery Gallery Tiziana Fabi/AFP/Getty Images Gallery Pope\n",
            "Leo’s life in pictures • Gallery Gallery Albert Salemgareyev/ACBK\n",
            "Gallery Saiga: Back from the brink • Gallery Gallery Thomas\n",
            "Lohnes/Getty Images Gallery The return of the European bison Ad\n",
            "Feedback In Case You Missed It Andrew Renneisen/Getty Images Crucial\n",
            "system of ocean currents is slowing – and already supercharging sea\n",
            "level rise in US Three Iranian nationals appear in court in the UK\n",
            "charged with national security offenses Officials across US government\n",
            "scramble to implement Trump’s surprise Syria announcement Pope Leo’s\n",
            "personal trainer reveals shock at learning client became next pontiff\n",
            "Supreme Court blocks Trump from restarting Alien Enemies Act\n",
            "deportations Supporters of Bolivia’s ex-leader Morales clash with\n",
            "police in push to secure his candidacy Poland’s election could end\n",
            "last vestige of populist resistance to PM Tusk Russia sentences\n",
            "Australian man to 13 years in prison for fighting for Ukraine A trip\n",
            "to Rome for state officials. Paid for in part by companies they\n",
            "regulate. Subscribe Sign in My Account Settings Newsletters Topics you\n",
            "follow Sign out Your CNN account Sign in to your CNN account Live TV\n",
            "Listen Watch World Africa Americas Asia Australia China Europe India\n",
            "Middle East United Kingdom US Politics Trump Facts First CNN Polls\n",
            "2025 Elections Business Tech Media Calculators Videos Markets Pre-\n",
            "markets After-Hours Fear & Greed Investing Markets Now Nightcap Health\n",
            "Life, But Better Fitness Food Sleep Mindfulness Relationships\n",
            "Entertainment Movies Television Celebrity Tech Innovate Foreseeable\n",
            "Future Mission: Ahead Work Transformed Innovative Cities Style Arts\n",
            "Design Fashion Architecture Luxury Beauty Video Travel Destinations\n",
            "Food & Drink Stay News Videos Sports Football Tennis Golf Motorsport\n",
            "US Sports Olympics Climbing Esports Hockey Science Space Life\n",
            "Unearthed Climate Solutions Weather Weather Video Climate Ukraine-\n",
            "Russia War Israel-Hamas War Features As Equals Call to Earth Freedom\n",
            "Project Impact Your World Inside Africa CNN Heroes Watch Live TV CNN\n",
            "Fast Shows A-Z CNN10 CNN Max CNN TV Schedules Listen CNN 5 Things\n",
            "Chasing Life with Dr. Sanjay Gupta The Assignment with Audie Cornish\n",
            "One Thing Tug of War CNN Political Briefing The Axe Files All There Is\n",
            "with Anderson Cooper All CNN Audio podcasts Games Daily Crossword\n",
            "Jumble Crossword Sudoblock Sudoku 5 Things Quiz About CNN Photos\n",
            "Investigations CNN Profiles CNN Leadership CNN Newsletters Work for\n",
            "CNN Watch Listen Live TV Follow CNN Subscribe Sign in My Account\n",
            "Settings Newsletters Topics you follow Sign out Your CNN account Sign\n",
            "in to your CNN account Terms of Use Privacy Policy Cookie Settings Ad\n",
            "Choices Accessibility & CC About Newsletters Transcripts © 2025 Cable\n",
            "News Network. A Warner Bros. Discovery Company. All Rights Reserved.\n",
            "CNN Sans ™ & © 2016 Cable News Network. Privacy Policy For privacy\n",
            "options, please see our privacy policy: https://www.cnn.com/privacy .\n",
            "Back Button Cookie List Search Icon Filter Icon Clear checkbox label\n",
            "label Apply Cancel Consent Leg.Interest checkbox label label checkbox\n",
            "label label checkbox label label Close\n"
          ]
        }
      ],
      "source": [
        "import textwrap\n",
        "print(textwrap.fill(text))"
      ]
    },
    {
      "cell_type": "code",
      "execution_count": 10,
      "metadata": {},
      "outputs": [
        {
          "data": {
            "text/plain": [
              "'876,777.67 United States Dollar'"
            ]
          },
          "execution_count": 10,
          "metadata": {},
          "output_type": "execute_result"
        }
      ],
      "source": [
        "from langchain_community.utilities import GoogleSerperAPIWrapper\n",
        "\n",
        "serper = GoogleSerperAPIWrapper()\n",
        "serper.run(\"How much is 7.5 crores INR in USD\")"
      ]
    },
    {
      "cell_type": "code",
      "execution_count": 11,
      "metadata": {},
      "outputs": [],
      "source": [
        "from langchain.agents import Tool\n",
        "\n",
        "tool_search =Tool(\n",
        "        name=\"search\",\n",
        "        func=serper.run,\n",
        "        description=\"Useful for when you need more information from an online search\"\n",
        "    )\n"
      ]
    },
    {
      "cell_type": "code",
      "execution_count": 12,
      "metadata": {},
      "outputs": [],
      "source": [
        "all_tools = tools + [tool_push, tool_search]"
      ]
    },
    {
      "cell_type": "code",
      "execution_count": 13,
      "metadata": {},
      "outputs": [
        {
          "data": {
            "text/plain": [
              "[ClickTool(async_browser=<Browser type=<BrowserType name=chromium executable_path=/Users/reema14a/Library/Caches/ms-playwright/chromium-1169/chrome-mac/Chromium.app/Contents/MacOS/Chromium> version=136.0.7103.25>),\n",
              " NavigateTool(async_browser=<Browser type=<BrowserType name=chromium executable_path=/Users/reema14a/Library/Caches/ms-playwright/chromium-1169/chrome-mac/Chromium.app/Contents/MacOS/Chromium> version=136.0.7103.25>),\n",
              " NavigateBackTool(async_browser=<Browser type=<BrowserType name=chromium executable_path=/Users/reema14a/Library/Caches/ms-playwright/chromium-1169/chrome-mac/Chromium.app/Contents/MacOS/Chromium> version=136.0.7103.25>),\n",
              " ExtractTextTool(async_browser=<Browser type=<BrowserType name=chromium executable_path=/Users/reema14a/Library/Caches/ms-playwright/chromium-1169/chrome-mac/Chromium.app/Contents/MacOS/Chromium> version=136.0.7103.25>),\n",
              " ExtractHyperlinksTool(async_browser=<Browser type=<BrowserType name=chromium executable_path=/Users/reema14a/Library/Caches/ms-playwright/chromium-1169/chrome-mac/Chromium.app/Contents/MacOS/Chromium> version=136.0.7103.25>),\n",
              " GetElementsTool(async_browser=<Browser type=<BrowserType name=chromium executable_path=/Users/reema14a/Library/Caches/ms-playwright/chromium-1169/chrome-mac/Chromium.app/Contents/MacOS/Chromium> version=136.0.7103.25>),\n",
              " CurrentWebPageTool(async_browser=<Browser type=<BrowserType name=chromium executable_path=/Users/reema14a/Library/Caches/ms-playwright/chromium-1169/chrome-mac/Chromium.app/Contents/MacOS/Chromium> version=136.0.7103.25>),\n",
              " Tool(name='send_push_notification', description='useful for when you want to send a push notification', func=<function push at 0x110470040>),\n",
              " Tool(name='search', description='Useful for when you need more information from an online search', func=<bound method GoogleSerperAPIWrapper.run of GoogleSerperAPIWrapper(k=10, gl='us', hl='en', type='search', result_key_for_type={'news': 'news', 'places': 'places', 'images': 'images', 'search': 'organic'}, tbs=None, serper_api_key='58509fb0146219d6df074e277d7dbf734202324d', aiosession=None)>)]"
            ]
          },
          "execution_count": 13,
          "metadata": {},
          "output_type": "execute_result"
        }
      ],
      "source": [
        "all_tools"
      ]
    },
    {
      "cell_type": "code",
      "execution_count": 14,
      "metadata": {},
      "outputs": [
        {
          "name": "stdout",
          "output_type": "stream",
          "text": [
            "Google API Key exists and begins AI\n"
          ]
        }
      ],
      "source": [
        "import os\n",
        "google_api_key = os.getenv('GOOGLE_API_KEY')\n",
        "\n",
        "if google_api_key:\n",
        "    print(f\"Google API Key exists and begins {google_api_key[:2]}\")\n",
        "else:\n",
        "    print(\"Google API Key not set (and this is optional)\")"
      ]
    },
    {
      "cell_type": "code",
      "execution_count": 15,
      "metadata": {},
      "outputs": [],
      "source": [
        "model_name = \"gemini-2.0-flash\"\n",
        "llm = ChatGoogleGenerativeAI(model = model_name, google_api_key = google_api_key)"
      ]
    },
    {
      "cell_type": "code",
      "execution_count": 16,
      "metadata": {},
      "outputs": [],
      "source": [
        "\n",
        "# llm = ChatOpenAI(model=\"gpt-4o-mini\")\n",
        "llm_with_tools = llm.bind_tools(all_tools)\n",
        "\n",
        "\n",
        "def chatbot(state: State):\n",
        "    return {\"messages\": [llm_with_tools.invoke(state[\"messages\"])]}\n"
      ]
    },
    {
      "cell_type": "code",
      "execution_count": 17,
      "metadata": {},
      "outputs": [
        {
          "name": "stdout",
          "output_type": "stream",
          "text": [
            "0.4.5\n"
          ]
        }
      ],
      "source": [
        "import importlib.metadata\n",
        "print(importlib.metadata.version(\"langgraph\"))"
      ]
    },
    {
      "cell_type": "code",
      "execution_count": 18,
      "metadata": {},
      "outputs": [],
      "source": [
        "import aiosqlite\n",
        "from langgraph.checkpoint.sqlite.aio import AsyncSqliteSaver\n",
        "\n",
        "db_path = \"memory.db\"\n",
        "conn = await aiosqlite.connect(db_path)\n",
        "sql_memory = AsyncSqliteSaver(conn)"
      ]
    },
    {
      "cell_type": "code",
      "execution_count": 19,
      "metadata": {},
      "outputs": [
        {
          "data": {
            "image/png": "[encoded data removed]",
            "text/plain": [
              "<IPython.core.display.Image object>"
            ]
          },
          "metadata": {},
          "output_type": "display_data"
        }
      ],
      "source": [
        "\n",
        "graph_builder = StateGraph(State)\n",
        "graph_builder.add_node(\"chatbot\", chatbot)\n",
        "graph_builder.add_node(\"tools\", ToolNode(tools=all_tools))\n",
        "graph_builder.add_conditional_edges( \"chatbot\", tools_condition, \"tools\")\n",
        "graph_builder.add_edge(\"tools\", \"chatbot\")\n",
        "graph_builder.add_edge(START, \"chatbot\")\n",
        "\n",
        "# memory = MemorySaver()\n",
        "# graph = graph_builder.compile(checkpointer=memory)\n",
        "graph = graph_builder.compile(checkpointer=sql_memory)\n",
        "display(Image(graph.get_graph().draw_mermaid_png()))"
      ]
    },
    {
      "cell_type": "code",
      "execution_count": 20,
      "metadata": {},
      "outputs": [
        {
          "name": "stdout",
          "output_type": "stream",
          "text": [
            "* Running on local URL:  http://127.0.0.1:7860\n",
            "* To create a public link, set `share=True` in `launch()`.\n"
          ]
        },
        {
          "data": {
            "text/html": [
              "<div><iframe src=\"http://127.0.0.1:7860/\" width=\"100%\" height=\"500\" allow=\"autoplay; camera; microphone; clipboard-read; clipboard-write;\" frameborder=\"0\" allowfullscreen></iframe></div>"
            ],
            "text/plain": [
              "<IPython.core.display.HTML object>"
            ]
          },
          "metadata": {},
          "output_type": "display_data"
        },
        {
          "data": {
            "text/plain": []
          },
          "execution_count": 20,
          "metadata": {},
          "output_type": "execute_result"
        }
      ],
      "source": [
        "config = {\"configurable\": {\"thread_id\": \"10\"}}\n",
        "\n",
        "async def chat(user_input: str, history):\n",
        "    result = await graph.ainvoke({\"messages\": [{\"role\": \"user\", \"content\": user_input}]}, config=config)\n",
        "    return result[\"messages\"][-1].content\n",
        "\n",
        "\n",
        "gr.ChatInterface(chat, type=\"messages\").launch()"
      ]
    },
    {
      "cell_type": "code",
      "execution_count": null,
      "metadata": {},
      "outputs": [],
      "source": [
        "list(graph.get_state_history(config))"
      ]
    },
    {
      "cell_type": "code",
      "execution_count": null,
      "metadata": {},
      "outputs": [],
      "source": []
    }
  ],
  "metadata": {
    "kernelspec": {
      "display_name": ".venv",
      "language": "python",
      "name": "python3"
    },
    "language_info": {
      "codemirror_mode": {
        "name": "ipython",
        "version": 3
      },
      "file_extension": ".py",
      "mimetype": "text/x-python",
      "name": "python",
      "nbconvert_exporter": "python",
      "pygments_lexer": "ipython3",
      "version": "3.12.10"
    }
  },
  "nbformat": 4,
  "nbformat_minor": 2
}
