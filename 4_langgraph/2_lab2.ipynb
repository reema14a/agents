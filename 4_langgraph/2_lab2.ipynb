{
 "cells": [
  {
   "cell_type": "markdown",
   "metadata": {},
   "source": [
    "### And welcome to Week 4, Day 3 - more LangGraph.."
   ]
  },
  {
   "cell_type": "code",
   "execution_count": 1,
   "metadata": {},
   "outputs": [],
   "source": [
    "from typing import Annotated\n",
    "from langgraph.graph import StateGraph, START, END\n",
    "from langgraph.graph.message import add_messages\n",
    "from dotenv import load_dotenv\n",
    "from IPython.display import Image, display\n",
    "import gradio as gr\n",
    "from langgraph.prebuilt import ToolNode, tools_condition\n",
    "import requests\n",
    "import os\n",
    "from langchain_openai import ChatOpenAI\n",
    "from typing import TypedDict\n"
   ]
  },
  {
   "cell_type": "code",
   "execution_count": 2,
   "metadata": {},
   "outputs": [
    {
     "data": {
      "text/plain": [
       "True"
      ]
     },
     "execution_count": 2,
     "metadata": {},
     "output_type": "execute_result"
    }
   ],
   "source": [
    "# Our favorite first step! Crew was doing this for us, by the way.\n",
    "load_dotenv(override=True)\n"
   ]
  },
  {
   "cell_type": "markdown",
   "metadata": {},
   "source": [
    "### First, let's go set up LangSmith!\n",
    "\n",
    "https://langsmith.com"
   ]
  },
  {
   "cell_type": "markdown",
   "metadata": {},
   "source": [
    "### Next, here is a useful function in LangChain community:"
   ]
  },
  {
   "cell_type": "code",
   "execution_count": 3,
   "metadata": {},
   "outputs": [
    {
     "data": {
      "text/plain": [
       "'876,969.00 United States Dollar'"
      ]
     },
     "execution_count": 3,
     "metadata": {},
     "output_type": "execute_result"
    }
   ],
   "source": [
    "from langchain_community.utilities import GoogleSerperAPIWrapper\n",
    "\n",
    "serper = GoogleSerperAPIWrapper()\n",
    "serper.run(\"How much is 7.5 crores INR in USD\")"
   ]
  },
  {
   "cell_type": "markdown",
   "metadata": {},
   "source": [
    "### Now here is a LangChain wrapper class for converting functions into Tools"
   ]
  },
  {
   "cell_type": "code",
   "execution_count": 4,
   "metadata": {},
   "outputs": [],
   "source": [
    "from langchain.agents import Tool\n",
    "\n",
    "tool_search =Tool(\n",
    "        name=\"search\",\n",
    "        func=serper.run,\n",
    "        description=\"Useful for when you need more information from an online search\"\n",
    "    )\n",
    "\n"
   ]
  },
  {
   "cell_type": "markdown",
   "metadata": {},
   "source": [
    "### Now we can try out the tool the langchain way"
   ]
  },
  {
   "cell_type": "code",
   "execution_count": 5,
   "metadata": {},
   "outputs": [
    {
     "data": {
      "text/plain": [
       "'876,969.00 United States Dollar'"
      ]
     },
     "execution_count": 5,
     "metadata": {},
     "output_type": "execute_result"
    }
   ],
   "source": [
    "tool_search.invoke(\"How much is 7.5 crores INR in USD?\")"
   ]
  },
  {
   "cell_type": "markdown",
   "metadata": {},
   "source": [
    "### And now let's write a tool ourselves\n",
    "\n",
    "We'll pick a familiar one"
   ]
  },
  {
   "cell_type": "code",
   "execution_count": 6,
   "metadata": {},
   "outputs": [],
   "source": [
    "pushover_token = os.getenv(\"PUSHOVER_TOKEN\")\n",
    "pushover_user = os.getenv(\"PUSHOVER_USER\")\n",
    "pushover_url = \"https://api.pushover.net/1/messages.json\"\n",
    "\n",
    "def push(text: str):\n",
    "    \"\"\"Send a push notification to the user\"\"\"\n",
    "    requests.post(pushover_url, data = {\"token\": pushover_token, \"user\": pushover_user, \"message\": text})"
   ]
  },
  {
   "cell_type": "code",
   "execution_count": 7,
   "metadata": {},
   "outputs": [],
   "source": [
    "tool_push = Tool(\n",
    "        name=\"send_push_notification\",\n",
    "        func=push,\n",
    "        description=\"useful for when you want to send a push notification\"\n",
    "    )\n",
    "\n",
    "tool_push.invoke(\"Hello, me\")"
   ]
  },
  {
   "cell_type": "markdown",
   "metadata": {},
   "source": [
    "### Back to the Graph from yesterday\n",
    "\n",
    "One small change - using TypedDict instead of BaseModel for the State object\n",
    "\n",
    "When we implement tools, we always need to make 2 changes to the code:\n",
    "\n",
    "1. Changes to provide the tools to OpenAI in json when we make the call\n",
    "\n",
    "2. Changes to handle the results back: look for the model staying that the finish_reason==\"tool_calls\" and then retrieve the call, run the function, provide the results."
   ]
  },
  {
   "cell_type": "markdown",
   "metadata": {},
   "source": [
    "### Bring them together"
   ]
  },
  {
   "cell_type": "code",
   "execution_count": 8,
   "metadata": {},
   "outputs": [],
   "source": [
    "tools = [tool_search, tool_push]"
   ]
  },
  {
   "cell_type": "code",
   "execution_count": 9,
   "metadata": {},
   "outputs": [],
   "source": [
    "# Step 1: Define the State object\n",
    "class State(TypedDict):\n",
    "    messages: Annotated[list, add_messages]"
   ]
  },
  {
   "cell_type": "code",
   "execution_count": 10,
   "metadata": {},
   "outputs": [],
   "source": [
    "# Step 2: Start the Graph Builder with this State class\n",
    "graph_builder = StateGraph(State)"
   ]
  },
  {
   "cell_type": "code",
   "execution_count": 11,
   "metadata": {},
   "outputs": [
    {
     "name": "stdout",
     "output_type": "stream",
     "text": [
      "Google API Key exists and begins AI\n"
     ]
    }
   ],
   "source": [
    "import os\n",
    "google_api_key = os.getenv('GOOGLE_API_KEY')\n",
    "\n",
    "if google_api_key:\n",
    "    print(f\"Google API Key exists and begins {google_api_key[:2]}\")\n",
    "else:\n",
    "    print(\"Google API Key not set (and this is optional)\")"
   ]
  },
  {
   "cell_type": "code",
   "execution_count": 12,
   "metadata": {},
   "outputs": [],
   "source": [
    "# model_name = \"gemini-2.0-flash\"\n",
    "# llm = ChatOpenAI(api_key=google_api_key, base_url=\"https://generativelanguage.googleapis.com/v1beta/openai/\", model=model_name)"
   ]
  },
  {
   "cell_type": "code",
   "execution_count": 13,
   "metadata": {},
   "outputs": [],
   "source": [
    "from langchain_google_genai.chat_models import ChatGoogleGenerativeAI\n",
    "\n",
    "model_name = \"gemini-2.0-flash\"\n",
    "llm = ChatGoogleGenerativeAI(model = model_name, google_api_key = google_api_key)"
   ]
  },
  {
   "cell_type": "code",
   "execution_count": 14,
   "metadata": {},
   "outputs": [],
   "source": [
    "# This is different:\n",
    "\n",
    "# llm = ChatOpenAI(model=\"gpt-4o-mini\")\n",
    "llm_with_tools = llm.bind_tools(tools)"
   ]
  },
  {
   "cell_type": "code",
   "execution_count": 15,
   "metadata": {},
   "outputs": [
    {
     "data": {
      "text/plain": [
       "<langgraph.graph.state.StateGraph at 0x10ffc6240>"
      ]
     },
     "execution_count": 15,
     "metadata": {},
     "output_type": "execute_result"
    }
   ],
   "source": [
    "# Step 3: Create a Node\n",
    "\n",
    "\n",
    "def chatbot(state: State):\n",
    "    messages = [llm_with_tools.invoke(state[\"messages\"])]\n",
    "    print(messages)\n",
    "    return {\"messages\": messages}\n",
    "\n",
    "graph_builder.add_node(\"chatbot\", chatbot)\n",
    "graph_builder.add_node(\"tools\", ToolNode(tools=tools))"
   ]
  },
  {
   "cell_type": "code",
   "execution_count": 16,
   "metadata": {},
   "outputs": [
    {
     "data": {
      "text/plain": [
       "<langgraph.graph.state.StateGraph at 0x10ffc6240>"
      ]
     },
     "execution_count": 16,
     "metadata": {},
     "output_type": "execute_result"
    }
   ],
   "source": [
    "# Step 4: Create Edges\n",
    "\n",
    "\n",
    "graph_builder.add_conditional_edges( \"chatbot\", tools_condition, \"tools\")\n",
    "\n",
    "# Any time a tool is called, we return to the chatbot to decide the next step\n",
    "graph_builder.add_edge(\"tools\", \"chatbot\")\n",
    "graph_builder.add_edge(START, \"chatbot\")"
   ]
  },
  {
   "cell_type": "code",
   "execution_count": 25,
   "metadata": {},
   "outputs": [
    {
     "data": {
      "image/png": "[encoded data removed]",
      "text/plain": [
       "<IPython.core.display.Image object>"
      ]
     },
     "metadata": {},
     "output_type": "display_data"
    }
   ],
   "source": [
    "# Step 5: Compile the Graph\n",
    "graph = graph_builder.compile()\n",
    "display(Image(graph.get_graph().draw_mermaid_png()))"
   ]
  },
  {
   "cell_type": "markdown",
   "metadata": {},
   "source": [
    "### That's it! And, let's do this:"
   ]
  },
  {
   "cell_type": "code",
   "execution_count": 26,
   "metadata": {},
   "outputs": [
    {
     "name": "stdout",
     "output_type": "stream",
     "text": [
      "* Running on local URL:  http://127.0.0.1:7864\n",
      "* To create a public link, set `share=True` in `launch()`.\n"
     ]
    },
    {
     "data": {
      "text/html": [
       "<div><iframe src=\"http://127.0.0.1:7864/\" width=\"100%\" height=\"500\" allow=\"autoplay; camera; microphone; clipboard-read; clipboard-write;\" frameborder=\"0\" allowfullscreen></iframe></div>"
      ],
      "text/plain": [
       "<IPython.core.display.HTML object>"
      ]
     },
     "metadata": {},
     "output_type": "display_data"
    },
    {
     "data": {
      "text/plain": []
     },
     "execution_count": 26,
     "metadata": {},
     "output_type": "execute_result"
    },
    {
     "name": "stdout",
     "output_type": "stream",
     "text": [
      "{'messages': [HumanMessage(content='do u know my name?', additional_kwargs={}, response_metadata={}, id='e9f1e7f8-f76f-464c-a4c6-5600c8e5244d')]}\n",
      "{'messages': [HumanMessage(content='do u know my name?', additional_kwargs={}, response_metadata={}, id='e9f1e7f8-f76f-464c-a4c6-5600c8e5244d'), AIMessage(content='I do not have access to personal information. I do not know your name.', additional_kwargs={}, response_metadata={'prompt_feedback': {'block_reason': 0, 'safety_ratings': []}, 'finish_reason': 'STOP', 'safety_ratings': []}, id='run--cf4e9a88-4ef7-4273-93ec-47b5e55815d5-0', usage_metadata={'input_tokens': 49, 'output_tokens': 17, 'total_tokens': 66, 'input_token_details': {'cache_read': 0}})]}\n",
      "{'messages': [HumanMessage(content='My name is Reema', additional_kwargs={}, response_metadata={}, id='8f5b8e32-3545-4560-8c4b-53b2311e7a85')]}\n",
      "{'messages': [HumanMessage(content='My name is Reema', additional_kwargs={}, response_metadata={}, id='8f5b8e32-3545-4560-8c4b-53b2311e7a85'), AIMessage(content='Okay, Reema. How can I help you today?', additional_kwargs={}, response_metadata={'prompt_feedback': {'block_reason': 0, 'safety_ratings': []}, 'finish_reason': 'STOP', 'safety_ratings': []}, id='run--ea7c074c-0a00-433f-98e5-230252ce35eb-0', usage_metadata={'input_tokens': 48, 'output_tokens': 13, 'total_tokens': 61, 'input_token_details': {'cache_read': 0}})]}\n",
      "{'messages': [HumanMessage(content='DO u know my name?', additional_kwargs={}, response_metadata={}, id='f5c374ff-6d79-4bd1-b567-d6e079d81c83')]}\n",
      "{'messages': [HumanMessage(content='DO u know my name?', additional_kwargs={}, response_metadata={}, id='f5c374ff-6d79-4bd1-b567-d6e079d81c83'), AIMessage(content=\"I do not have access to personal information. Therefore, I don't know your name.\", additional_kwargs={}, response_metadata={'prompt_feedback': {'block_reason': 0, 'safety_ratings': []}, 'finish_reason': 'STOP', 'safety_ratings': []}, id='run--8ac99e5e-6afa-419c-aed2-df10c8c2a8e6-0', usage_metadata={'input_tokens': 49, 'output_tokens': 20, 'total_tokens': 69, 'input_token_details': {'cache_read': 0}})]}\n"
     ]
    }
   ],
   "source": [
    "def chat(user_input: str, history):\n",
    "    result = graph.invoke({\"messages\": [{\"role\": \"user\", \"content\": user_input}]})\n",
    "    print(result)\n",
    "    return result[\"messages\"][-1].content\n",
    "\n",
    "\n",
    "gr.ChatInterface(chat, type=\"messages\").launch()"
   ]
  },
  {
   "cell_type": "markdown",
   "metadata": {},
   "source": [
    "## OK it's time to add Memory!\n",
    "\n",
    "### BUT WAIT!\n",
    "\n",
    "We have this whole Graph maintaining the state and appending to the state.\n",
    "\n",
    "Why isn't this handling memory?\n",
    "\n",
    "### This is a crucial point for understanding LangGraph\n",
    "\n",
    "> A super-step can be considered a single iteration over the graph nodes. Nodes that run in parallel are part of the same super-step, while nodes that run sequentially belong to separate super-steps.\n",
    "\n",
    "\n",
    "One \"Super-Step\" of the graph represents one invocation of passing messages between agents.\n",
    "\n",
    "In idomatic LangGraph, you call invoke to run your graph for each super-step; for each interaction.\n",
    "\n",
    "The reducer handles state updates automatically within one super-step, but not between them.\n",
    "\n",
    "That is what checkpointing achieves."
   ]
  },
  {
   "cell_type": "code",
   "execution_count": 27,
   "metadata": {},
   "outputs": [],
   "source": [
    "from langgraph.checkpoint.memory import MemorySaver\n",
    "\n",
    "memory = MemorySaver()"
   ]
  },
  {
   "cell_type": "code",
   "execution_count": 28,
   "metadata": {},
   "outputs": [
    {
     "data": {
      "image/png": "[encoded data removed]",
      "text/plain": [
       "<IPython.core.display.Image object>"
      ]
     },
     "metadata": {},
     "output_type": "display_data"
    }
   ],
   "source": [
    "# Steps 1 and 2\n",
    "graph_builder = StateGraph(State)\n",
    "\n",
    "\n",
    "# Step 3\n",
    "# llm = ChatOpenAI(model=\"gpt-4o-mini\")\n",
    "# llm_with_tools = llm.bind_tools(tools)\n",
    "\n",
    "def chatbot(state: State):\n",
    "    print(state)\n",
    "    return {\"messages\": [llm_with_tools.invoke(state[\"messages\"])]}\n",
    "\n",
    "graph_builder.add_node(\"chatbot\", chatbot)\n",
    "graph_builder.add_node(\"tools\", ToolNode(tools=tools))\n",
    "\n",
    "# Step 4\n",
    "graph_builder.add_conditional_edges( \"chatbot\", tools_condition, \"tools\")\n",
    "graph_builder.add_edge(\"tools\", \"chatbot\")\n",
    "graph_builder.add_edge(START, \"chatbot\")\n",
    "\n",
    "# Step 5\n",
    "graph = graph_builder.compile(checkpointer=memory)\n",
    "display(Image(graph.get_graph().draw_mermaid_png()))"
   ]
  },
  {
   "cell_type": "code",
   "execution_count": 33,
   "metadata": {},
   "outputs": [
    {
     "name": "stdout",
     "output_type": "stream",
     "text": [
      "* Running on local URL:  http://127.0.0.1:7867\n",
      "* To create a public link, set `share=True` in `launch()`.\n"
     ]
    },
    {
     "data": {
      "text/html": [
       "<div><iframe src=\"http://127.0.0.1:7867/\" width=\"100%\" height=\"500\" allow=\"autoplay; camera; microphone; clipboard-read; clipboard-write;\" frameborder=\"0\" allowfullscreen></iframe></div>"
      ],
      "text/plain": [
       "<IPython.core.display.HTML object>"
      ]
     },
     "metadata": {},
     "output_type": "display_data"
    },
    {
     "data": {
      "text/plain": []
     },
     "execution_count": 33,
     "metadata": {},
     "output_type": "execute_result"
    },
    {
     "name": "stdout",
     "output_type": "stream",
     "text": [
      "{'messages': [HumanMessage(content='Do u know my name?', additional_kwargs={}, response_metadata={}, id='8969c2c0-2856-4366-ae13-41d48937051b'), AIMessage(content='I do not have access to personal information. As a large language model, I respect your privacy.', additional_kwargs={}, response_metadata={'prompt_feedback': {'block_reason': 0, 'safety_ratings': []}, 'finish_reason': 'STOP', 'safety_ratings': []}, id='run--7a9993a4-13f2-4bb2-a6b5-d22c8c9f5cd0-0', usage_metadata={'input_tokens': 49, 'output_tokens': 21, 'total_tokens': 70, 'input_token_details': {'cache_read': 0}}), HumanMessage(content='My name is Reema', additional_kwargs={}, response_metadata={}, id='182caeb0-9d96-48f9-a892-1929f7b95c95'), AIMessage(content='Nice to meet you, Reema!', additional_kwargs={}, response_metadata={'prompt_feedback': {'block_reason': 0, 'safety_ratings': []}, 'finish_reason': 'STOP', 'safety_ratings': []}, id='run--e2b10413-b7c9-4b22-84a0-ea983e81b984-0', usage_metadata={'input_tokens': 74, 'output_tokens': 9, 'total_tokens': 83, 'input_token_details': {'cache_read': 0}}), HumanMessage(content='hi there', additional_kwargs={}, response_metadata={}, id='76eb52cf-774f-481f-9216-4adc879baf33')]}\n",
      "{'messages': [HumanMessage(content='Do u know my name?', additional_kwargs={}, response_metadata={}, id='8969c2c0-2856-4366-ae13-41d48937051b'), AIMessage(content='I do not have access to personal information. As a large language model, I respect your privacy.', additional_kwargs={}, response_metadata={'prompt_feedback': {'block_reason': 0, 'safety_ratings': []}, 'finish_reason': 'STOP', 'safety_ratings': []}, id='run--7a9993a4-13f2-4bb2-a6b5-d22c8c9f5cd0-0', usage_metadata={'input_tokens': 49, 'output_tokens': 21, 'total_tokens': 70, 'input_token_details': {'cache_read': 0}}), HumanMessage(content='My name is Reema', additional_kwargs={}, response_metadata={}, id='182caeb0-9d96-48f9-a892-1929f7b95c95'), AIMessage(content='Nice to meet you, Reema!', additional_kwargs={}, response_metadata={'prompt_feedback': {'block_reason': 0, 'safety_ratings': []}, 'finish_reason': 'STOP', 'safety_ratings': []}, id='run--e2b10413-b7c9-4b22-84a0-ea983e81b984-0', usage_metadata={'input_tokens': 74, 'output_tokens': 9, 'total_tokens': 83, 'input_token_details': {'cache_read': 0}}), HumanMessage(content='hi there', additional_kwargs={}, response_metadata={}, id='76eb52cf-774f-481f-9216-4adc879baf33'), AIMessage(content='Hello! How can I help you today?', additional_kwargs={}, response_metadata={'prompt_feedback': {'block_reason': 0, 'safety_ratings': []}, 'finish_reason': 'STOP', 'safety_ratings': []}, id='run--3432a439-0f25-47b8-81ed-fdb9bcd8ca3f-0', usage_metadata={'input_tokens': 84, 'output_tokens': 10, 'total_tokens': 94, 'input_token_details': {'cache_read': 0}}), HumanMessage(content='whats my name?', additional_kwargs={}, response_metadata={}, id='a5f55e13-f280-434b-a7fb-cd8242d44b8e')]}\n"
     ]
    }
   ],
   "source": [
    "config = {\"configurable\": {\"thread_id\": \"1\"}}\n",
    "\n",
    "def chat(user_input: str, history):\n",
    "    result = graph.invoke({\"messages\": [{\"role\": \"user\", \"content\": user_input}]}, config=config)\n",
    "    return result[\"messages\"][-1].content\n",
    "\n",
    "\n",
    "gr.ChatInterface(chat, type=\"messages\").launch()"
   ]
  },
  {
   "cell_type": "code",
   "execution_count": 34,
   "metadata": {},
   "outputs": [
    {
     "data": {
      "text/plain": [
       "StateSnapshot(values={'messages': [HumanMessage(content='Do u know my name?', additional_kwargs={}, response_metadata={}, id='8969c2c0-2856-4366-ae13-41d48937051b'), AIMessage(content='I do not have access to personal information. As a large language model, I respect your privacy.', additional_kwargs={}, response_metadata={'prompt_feedback': {'block_reason': 0, 'safety_ratings': []}, 'finish_reason': 'STOP', 'safety_ratings': []}, id='run--7a9993a4-13f2-4bb2-a6b5-d22c8c9f5cd0-0', usage_metadata={'input_tokens': 49, 'output_tokens': 21, 'total_tokens': 70, 'input_token_details': {'cache_read': 0}}), HumanMessage(content='My name is Reema', additional_kwargs={}, response_metadata={}, id='182caeb0-9d96-48f9-a892-1929f7b95c95'), AIMessage(content='Nice to meet you, Reema!', additional_kwargs={}, response_metadata={'prompt_feedback': {'block_reason': 0, 'safety_ratings': []}, 'finish_reason': 'STOP', 'safety_ratings': []}, id='run--e2b10413-b7c9-4b22-84a0-ea983e81b984-0', usage_metadata={'input_tokens': 74, 'output_tokens': 9, 'total_tokens': 83, 'input_token_details': {'cache_read': 0}}), HumanMessage(content='hi there', additional_kwargs={}, response_metadata={}, id='76eb52cf-774f-481f-9216-4adc879baf33'), AIMessage(content='Hello! How can I help you today?', additional_kwargs={}, response_metadata={'prompt_feedback': {'block_reason': 0, 'safety_ratings': []}, 'finish_reason': 'STOP', 'safety_ratings': []}, id='run--3432a439-0f25-47b8-81ed-fdb9bcd8ca3f-0', usage_metadata={'input_tokens': 84, 'output_tokens': 10, 'total_tokens': 94, 'input_token_details': {'cache_read': 0}}), HumanMessage(content='whats my name?', additional_kwargs={}, response_metadata={}, id='a5f55e13-f280-434b-a7fb-cd8242d44b8e'), AIMessage(content='Your name is Reema.', additional_kwargs={}, response_metadata={'prompt_feedback': {'block_reason': 0, 'safety_ratings': []}, 'finish_reason': 'STOP', 'safety_ratings': []}, id='run--d492bc54-6250-43d3-b93a-caf0d82942c7-0', usage_metadata={'input_tokens': 97, 'output_tokens': 7, 'total_tokens': 104, 'input_token_details': {'cache_read': 0}})]}, next=(), config={'configurable': {'thread_id': '1', 'checkpoint_ns': '', 'checkpoint_id': '1f03587a-9fa1-6c18-800a-5e271ce90ab9'}}, metadata={'source': 'loop', 'writes': {'chatbot': {'messages': [AIMessage(content='Your name is Reema.', additional_kwargs={}, response_metadata={'prompt_feedback': {'block_reason': 0, 'safety_ratings': []}, 'finish_reason': 'STOP', 'safety_ratings': []}, id='run--d492bc54-6250-43d3-b93a-caf0d82942c7-0', usage_metadata={'input_tokens': 97, 'output_tokens': 7, 'total_tokens': 104, 'input_token_details': {'cache_read': 0}})]}}, 'step': 10, 'parents': {}, 'thread_id': '1'}, created_at='2025-05-20T14:35:23.708302+00:00', parent_config={'configurable': {'thread_id': '1', 'checkpoint_ns': '', 'checkpoint_id': '1f03587a-9940-60b8-8009-8f8ece2d31fe'}}, tasks=(), interrupts=())"
      ]
     },
     "execution_count": 34,
     "metadata": {},
     "output_type": "execute_result"
    }
   ],
   "source": [
    "graph.get_state(config)"
   ]
  },
  {
   "cell_type": "code",
   "execution_count": 35,
   "metadata": {},
   "outputs": [
    {
     "data": {
      "text/plain": [
       "[StateSnapshot(values={'messages': [HumanMessage(content='Do u know my name?', additional_kwargs={}, response_metadata={}, id='8969c2c0-2856-4366-ae13-41d48937051b'), AIMessage(content='I do not have access to personal information. As a large language model, I respect your privacy.', additional_kwargs={}, response_metadata={'prompt_feedback': {'block_reason': 0, 'safety_ratings': []}, 'finish_reason': 'STOP', 'safety_ratings': []}, id='run--7a9993a4-13f2-4bb2-a6b5-d22c8c9f5cd0-0', usage_metadata={'input_tokens': 49, 'output_tokens': 21, 'total_tokens': 70, 'input_token_details': {'cache_read': 0}}), HumanMessage(content='My name is Reema', additional_kwargs={}, response_metadata={}, id='182caeb0-9d96-48f9-a892-1929f7b95c95'), AIMessage(content='Nice to meet you, Reema!', additional_kwargs={}, response_metadata={'prompt_feedback': {'block_reason': 0, 'safety_ratings': []}, 'finish_reason': 'STOP', 'safety_ratings': []}, id='run--e2b10413-b7c9-4b22-84a0-ea983e81b984-0', usage_metadata={'input_tokens': 74, 'output_tokens': 9, 'total_tokens': 83, 'input_token_details': {'cache_read': 0}}), HumanMessage(content='hi there', additional_kwargs={}, response_metadata={}, id='76eb52cf-774f-481f-9216-4adc879baf33'), AIMessage(content='Hello! How can I help you today?', additional_kwargs={}, response_metadata={'prompt_feedback': {'block_reason': 0, 'safety_ratings': []}, 'finish_reason': 'STOP', 'safety_ratings': []}, id='run--3432a439-0f25-47b8-81ed-fdb9bcd8ca3f-0', usage_metadata={'input_tokens': 84, 'output_tokens': 10, 'total_tokens': 94, 'input_token_details': {'cache_read': 0}}), HumanMessage(content='whats my name?', additional_kwargs={}, response_metadata={}, id='a5f55e13-f280-434b-a7fb-cd8242d44b8e'), AIMessage(content='Your name is Reema.', additional_kwargs={}, response_metadata={'prompt_feedback': {'block_reason': 0, 'safety_ratings': []}, 'finish_reason': 'STOP', 'safety_ratings': []}, id='run--d492bc54-6250-43d3-b93a-caf0d82942c7-0', usage_metadata={'input_tokens': 97, 'output_tokens': 7, 'total_tokens': 104, 'input_token_details': {'cache_read': 0}})]}, next=(), config={'configurable': {'thread_id': '1', 'checkpoint_ns': '', 'checkpoint_id': '1f03587a-9fa1-6c18-800a-5e271ce90ab9'}}, metadata={'source': 'loop', 'writes': {'chatbot': {'messages': [AIMessage(content='Your name is Reema.', additional_kwargs={}, response_metadata={'prompt_feedback': {'block_reason': 0, 'safety_ratings': []}, 'finish_reason': 'STOP', 'safety_ratings': []}, id='run--d492bc54-6250-43d3-b93a-caf0d82942c7-0', usage_metadata={'input_tokens': 97, 'output_tokens': 7, 'total_tokens': 104, 'input_token_details': {'cache_read': 0}})]}}, 'step': 10, 'parents': {}, 'thread_id': '1'}, created_at='2025-05-20T14:35:23.708302+00:00', parent_config={'configurable': {'thread_id': '1', 'checkpoint_ns': '', 'checkpoint_id': '1f03587a-9940-60b8-8009-8f8ece2d31fe'}}, tasks=(), interrupts=()),\n",
       " StateSnapshot(values={'messages': [HumanMessage(content='Do u know my name?', additional_kwargs={}, response_metadata={}, id='8969c2c0-2856-4366-ae13-41d48937051b'), AIMessage(content='I do not have access to personal information. As a large language model, I respect your privacy.', additional_kwargs={}, response_metadata={'prompt_feedback': {'block_reason': 0, 'safety_ratings': []}, 'finish_reason': 'STOP', 'safety_ratings': []}, id='run--7a9993a4-13f2-4bb2-a6b5-d22c8c9f5cd0-0', usage_metadata={'input_tokens': 49, 'output_tokens': 21, 'total_tokens': 70, 'input_token_details': {'cache_read': 0}}), HumanMessage(content='My name is Reema', additional_kwargs={}, response_metadata={}, id='182caeb0-9d96-48f9-a892-1929f7b95c95'), AIMessage(content='Nice to meet you, Reema!', additional_kwargs={}, response_metadata={'prompt_feedback': {'block_reason': 0, 'safety_ratings': []}, 'finish_reason': 'STOP', 'safety_ratings': []}, id='run--e2b10413-b7c9-4b22-84a0-ea983e81b984-0', usage_metadata={'input_tokens': 74, 'output_tokens': 9, 'total_tokens': 83, 'input_token_details': {'cache_read': 0}}), HumanMessage(content='hi there', additional_kwargs={}, response_metadata={}, id='76eb52cf-774f-481f-9216-4adc879baf33'), AIMessage(content='Hello! How can I help you today?', additional_kwargs={}, response_metadata={'prompt_feedback': {'block_reason': 0, 'safety_ratings': []}, 'finish_reason': 'STOP', 'safety_ratings': []}, id='run--3432a439-0f25-47b8-81ed-fdb9bcd8ca3f-0', usage_metadata={'input_tokens': 84, 'output_tokens': 10, 'total_tokens': 94, 'input_token_details': {'cache_read': 0}}), HumanMessage(content='whats my name?', additional_kwargs={}, response_metadata={}, id='a5f55e13-f280-434b-a7fb-cd8242d44b8e')]}, next=('chatbot',), config={'configurable': {'thread_id': '1', 'checkpoint_ns': '', 'checkpoint_id': '1f03587a-9940-60b8-8009-8f8ece2d31fe'}}, metadata={'source': 'loop', 'writes': None, 'step': 9, 'parents': {}, 'thread_id': '1'}, created_at='2025-05-20T14:35:23.039120+00:00', parent_config={'configurable': {'thread_id': '1', 'checkpoint_ns': '', 'checkpoint_id': '1f03587a-9936-6fcc-8008-f9373bf54526'}}, tasks=(PregelTask(id='f1589041-1c7e-45e9-30a9-78e54416da8a', name='chatbot', path=('__pregel_pull', 'chatbot'), error=None, interrupts=(), state=None, result={'messages': [AIMessage(content='Your name is Reema.', additional_kwargs={}, response_metadata={'prompt_feedback': {'block_reason': 0, 'safety_ratings': []}, 'finish_reason': 'STOP', 'safety_ratings': []}, id='run--d492bc54-6250-43d3-b93a-caf0d82942c7-0', usage_metadata={'input_tokens': 97, 'output_tokens': 7, 'total_tokens': 104, 'input_token_details': {'cache_read': 0}})]}),), interrupts=()),\n",
       " StateSnapshot(values={'messages': [HumanMessage(content='Do u know my name?', additional_kwargs={}, response_metadata={}, id='8969c2c0-2856-4366-ae13-41d48937051b'), AIMessage(content='I do not have access to personal information. As a large language model, I respect your privacy.', additional_kwargs={}, response_metadata={'prompt_feedback': {'block_reason': 0, 'safety_ratings': []}, 'finish_reason': 'STOP', 'safety_ratings': []}, id='run--7a9993a4-13f2-4bb2-a6b5-d22c8c9f5cd0-0', usage_metadata={'input_tokens': 49, 'output_tokens': 21, 'total_tokens': 70, 'input_token_details': {'cache_read': 0}}), HumanMessage(content='My name is Reema', additional_kwargs={}, response_metadata={}, id='182caeb0-9d96-48f9-a892-1929f7b95c95'), AIMessage(content='Nice to meet you, Reema!', additional_kwargs={}, response_metadata={'prompt_feedback': {'block_reason': 0, 'safety_ratings': []}, 'finish_reason': 'STOP', 'safety_ratings': []}, id='run--e2b10413-b7c9-4b22-84a0-ea983e81b984-0', usage_metadata={'input_tokens': 74, 'output_tokens': 9, 'total_tokens': 83, 'input_token_details': {'cache_read': 0}}), HumanMessage(content='hi there', additional_kwargs={}, response_metadata={}, id='76eb52cf-774f-481f-9216-4adc879baf33'), AIMessage(content='Hello! How can I help you today?', additional_kwargs={}, response_metadata={'prompt_feedback': {'block_reason': 0, 'safety_ratings': []}, 'finish_reason': 'STOP', 'safety_ratings': []}, id='run--3432a439-0f25-47b8-81ed-fdb9bcd8ca3f-0', usage_metadata={'input_tokens': 84, 'output_tokens': 10, 'total_tokens': 94, 'input_token_details': {'cache_read': 0}})]}, next=('__start__',), config={'configurable': {'thread_id': '1', 'checkpoint_ns': '', 'checkpoint_id': '1f03587a-9936-6fcc-8008-f9373bf54526'}}, metadata={'source': 'input', 'writes': {'__start__': {'messages': [{'role': 'user', 'content': 'whats my name?'}]}}, 'step': 8, 'parents': {}, 'thread_id': '1'}, created_at='2025-05-20T14:35:23.035409+00:00', parent_config={'configurable': {'thread_id': '1', 'checkpoint_ns': '', 'checkpoint_id': '1f03587a-5351-6598-8007-1b16023319f4'}}, tasks=(PregelTask(id='c5371c7f-de8c-25e3-393f-ced3cecd4f79', name='__start__', path=('__pregel_pull', '__start__'), error=None, interrupts=(), state=None, result={'messages': [{'role': 'user', 'content': 'whats my name?'}]}),), interrupts=()),\n",
       " StateSnapshot(values={'messages': [HumanMessage(content='Do u know my name?', additional_kwargs={}, response_metadata={}, id='8969c2c0-2856-4366-ae13-41d48937051b'), AIMessage(content='I do not have access to personal information. As a large language model, I respect your privacy.', additional_kwargs={}, response_metadata={'prompt_feedback': {'block_reason': 0, 'safety_ratings': []}, 'finish_reason': 'STOP', 'safety_ratings': []}, id='run--7a9993a4-13f2-4bb2-a6b5-d22c8c9f5cd0-0', usage_metadata={'input_tokens': 49, 'output_tokens': 21, 'total_tokens': 70, 'input_token_details': {'cache_read': 0}}), HumanMessage(content='My name is Reema', additional_kwargs={}, response_metadata={}, id='182caeb0-9d96-48f9-a892-1929f7b95c95'), AIMessage(content='Nice to meet you, Reema!', additional_kwargs={}, response_metadata={'prompt_feedback': {'block_reason': 0, 'safety_ratings': []}, 'finish_reason': 'STOP', 'safety_ratings': []}, id='run--e2b10413-b7c9-4b22-84a0-ea983e81b984-0', usage_metadata={'input_tokens': 74, 'output_tokens': 9, 'total_tokens': 83, 'input_token_details': {'cache_read': 0}}), HumanMessage(content='hi there', additional_kwargs={}, response_metadata={}, id='76eb52cf-774f-481f-9216-4adc879baf33'), AIMessage(content='Hello! How can I help you today?', additional_kwargs={}, response_metadata={'prompt_feedback': {'block_reason': 0, 'safety_ratings': []}, 'finish_reason': 'STOP', 'safety_ratings': []}, id='run--3432a439-0f25-47b8-81ed-fdb9bcd8ca3f-0', usage_metadata={'input_tokens': 84, 'output_tokens': 10, 'total_tokens': 94, 'input_token_details': {'cache_read': 0}})]}, next=(), config={'configurable': {'thread_id': '1', 'checkpoint_ns': '', 'checkpoint_id': '1f03587a-5351-6598-8007-1b16023319f4'}}, metadata={'source': 'loop', 'writes': {'chatbot': {'messages': [AIMessage(content='Hello! How can I help you today?', additional_kwargs={}, response_metadata={'prompt_feedback': {'block_reason': 0, 'safety_ratings': []}, 'finish_reason': 'STOP', 'safety_ratings': []}, id='run--3432a439-0f25-47b8-81ed-fdb9bcd8ca3f-0', usage_metadata={'input_tokens': 84, 'output_tokens': 10, 'total_tokens': 94, 'input_token_details': {'cache_read': 0}})]}}, 'step': 7, 'parents': {}, 'thread_id': '1'}, created_at='2025-05-20T14:35:15.706185+00:00', parent_config={'configurable': {'thread_id': '1', 'checkpoint_ns': '', 'checkpoint_id': '1f03587a-4c7d-6c3a-8006-e655af7c2b9f'}}, tasks=(), interrupts=()),\n",
       " StateSnapshot(values={'messages': [HumanMessage(content='Do u know my name?', additional_kwargs={}, response_metadata={}, id='8969c2c0-2856-4366-ae13-41d48937051b'), AIMessage(content='I do not have access to personal information. As a large language model, I respect your privacy.', additional_kwargs={}, response_metadata={'prompt_feedback': {'block_reason': 0, 'safety_ratings': []}, 'finish_reason': 'STOP', 'safety_ratings': []}, id='run--7a9993a4-13f2-4bb2-a6b5-d22c8c9f5cd0-0', usage_metadata={'input_tokens': 49, 'output_tokens': 21, 'total_tokens': 70, 'input_token_details': {'cache_read': 0}}), HumanMessage(content='My name is Reema', additional_kwargs={}, response_metadata={}, id='182caeb0-9d96-48f9-a892-1929f7b95c95'), AIMessage(content='Nice to meet you, Reema!', additional_kwargs={}, response_metadata={'prompt_feedback': {'block_reason': 0, 'safety_ratings': []}, 'finish_reason': 'STOP', 'safety_ratings': []}, id='run--e2b10413-b7c9-4b22-84a0-ea983e81b984-0', usage_metadata={'input_tokens': 74, 'output_tokens': 9, 'total_tokens': 83, 'input_token_details': {'cache_read': 0}}), HumanMessage(content='hi there', additional_kwargs={}, response_metadata={}, id='76eb52cf-774f-481f-9216-4adc879baf33')]}, next=('chatbot',), config={'configurable': {'thread_id': '1', 'checkpoint_ns': '', 'checkpoint_id': '1f03587a-4c7d-6c3a-8006-e655af7c2b9f'}}, metadata={'source': 'loop', 'writes': None, 'step': 6, 'parents': {}, 'thread_id': '1'}, created_at='2025-05-20T14:35:14.990370+00:00', parent_config={'configurable': {'thread_id': '1', 'checkpoint_ns': '', 'checkpoint_id': '1f03587a-4c79-6392-8005-6c5c19d2cfc3'}}, tasks=(PregelTask(id='dce35811-ed78-c0c0-3a7e-33a9af856220', name='chatbot', path=('__pregel_pull', 'chatbot'), error=None, interrupts=(), state=None, result={'messages': [AIMessage(content='Hello! How can I help you today?', additional_kwargs={}, response_metadata={'prompt_feedback': {'block_reason': 0, 'safety_ratings': []}, 'finish_reason': 'STOP', 'safety_ratings': []}, id='run--3432a439-0f25-47b8-81ed-fdb9bcd8ca3f-0', usage_metadata={'input_tokens': 84, 'output_tokens': 10, 'total_tokens': 94, 'input_token_details': {'cache_read': 0}})]}),), interrupts=()),\n",
       " StateSnapshot(values={'messages': [HumanMessage(content='Do u know my name?', additional_kwargs={}, response_metadata={}, id='8969c2c0-2856-4366-ae13-41d48937051b'), AIMessage(content='I do not have access to personal information. As a large language model, I respect your privacy.', additional_kwargs={}, response_metadata={'prompt_feedback': {'block_reason': 0, 'safety_ratings': []}, 'finish_reason': 'STOP', 'safety_ratings': []}, id='run--7a9993a4-13f2-4bb2-a6b5-d22c8c9f5cd0-0', usage_metadata={'input_tokens': 49, 'output_tokens': 21, 'total_tokens': 70, 'input_token_details': {'cache_read': 0}}), HumanMessage(content='My name is Reema', additional_kwargs={}, response_metadata={}, id='182caeb0-9d96-48f9-a892-1929f7b95c95'), AIMessage(content='Nice to meet you, Reema!', additional_kwargs={}, response_metadata={'prompt_feedback': {'block_reason': 0, 'safety_ratings': []}, 'finish_reason': 'STOP', 'safety_ratings': []}, id='run--e2b10413-b7c9-4b22-84a0-ea983e81b984-0', usage_metadata={'input_tokens': 74, 'output_tokens': 9, 'total_tokens': 83, 'input_token_details': {'cache_read': 0}})]}, next=('__start__',), config={'configurable': {'thread_id': '1', 'checkpoint_ns': '', 'checkpoint_id': '1f03587a-4c79-6392-8005-6c5c19d2cfc3'}}, metadata={'source': 'input', 'writes': {'__start__': {'messages': [{'role': 'user', 'content': 'hi there'}]}}, 'step': 5, 'parents': {}, 'thread_id': '1'}, created_at='2025-05-20T14:35:14.988508+00:00', parent_config={'configurable': {'thread_id': '1', 'checkpoint_ns': '', 'checkpoint_id': '1f035871-af07-6aa8-8004-cc356d6398fa'}}, tasks=(PregelTask(id='90149195-36d1-8655-8984-aa107665a6db', name='__start__', path=('__pregel_pull', '__start__'), error=None, interrupts=(), state=None, result={'messages': [{'role': 'user', 'content': 'hi there'}]}),), interrupts=()),\n",
       " StateSnapshot(values={'messages': [HumanMessage(content='Do u know my name?', additional_kwargs={}, response_metadata={}, id='8969c2c0-2856-4366-ae13-41d48937051b'), AIMessage(content='I do not have access to personal information. As a large language model, I respect your privacy.', additional_kwargs={}, response_metadata={'prompt_feedback': {'block_reason': 0, 'safety_ratings': []}, 'finish_reason': 'STOP', 'safety_ratings': []}, id='run--7a9993a4-13f2-4bb2-a6b5-d22c8c9f5cd0-0', usage_metadata={'input_tokens': 49, 'output_tokens': 21, 'total_tokens': 70, 'input_token_details': {'cache_read': 0}}), HumanMessage(content='My name is Reema', additional_kwargs={}, response_metadata={}, id='182caeb0-9d96-48f9-a892-1929f7b95c95'), AIMessage(content='Nice to meet you, Reema!', additional_kwargs={}, response_metadata={'prompt_feedback': {'block_reason': 0, 'safety_ratings': []}, 'finish_reason': 'STOP', 'safety_ratings': []}, id='run--e2b10413-b7c9-4b22-84a0-ea983e81b984-0', usage_metadata={'input_tokens': 74, 'output_tokens': 9, 'total_tokens': 83, 'input_token_details': {'cache_read': 0}})]}, next=(), config={'configurable': {'thread_id': '1', 'checkpoint_ns': '', 'checkpoint_id': '1f035871-af07-6aa8-8004-cc356d6398fa'}}, metadata={'source': 'loop', 'writes': {'chatbot': {'messages': [AIMessage(content='Nice to meet you, Reema!', additional_kwargs={}, response_metadata={'prompt_feedback': {'block_reason': 0, 'safety_ratings': []}, 'finish_reason': 'STOP', 'safety_ratings': []}, id='run--e2b10413-b7c9-4b22-84a0-ea983e81b984-0', usage_metadata={'input_tokens': 74, 'output_tokens': 9, 'total_tokens': 83, 'input_token_details': {'cache_read': 0}})]}}, 'step': 4, 'parents': {}, 'thread_id': '1'}, created_at='2025-05-20T14:31:23.730991+00:00', parent_config={'configurable': {'thread_id': '1', 'checkpoint_ns': '', 'checkpoint_id': '1f035871-a738-68f4-8003-5eb3421b6991'}}, tasks=(), interrupts=()),\n",
       " StateSnapshot(values={'messages': [HumanMessage(content='Do u know my name?', additional_kwargs={}, response_metadata={}, id='8969c2c0-2856-4366-ae13-41d48937051b'), AIMessage(content='I do not have access to personal information. As a large language model, I respect your privacy.', additional_kwargs={}, response_metadata={'prompt_feedback': {'block_reason': 0, 'safety_ratings': []}, 'finish_reason': 'STOP', 'safety_ratings': []}, id='run--7a9993a4-13f2-4bb2-a6b5-d22c8c9f5cd0-0', usage_metadata={'input_tokens': 49, 'output_tokens': 21, 'total_tokens': 70, 'input_token_details': {'cache_read': 0}}), HumanMessage(content='My name is Reema', additional_kwargs={}, response_metadata={}, id='182caeb0-9d96-48f9-a892-1929f7b95c95')]}, next=('chatbot',), config={'configurable': {'thread_id': '1', 'checkpoint_ns': '', 'checkpoint_id': '1f035871-a738-68f4-8003-5eb3421b6991'}}, metadata={'source': 'loop', 'writes': None, 'step': 3, 'parents': {}, 'thread_id': '1'}, created_at='2025-05-20T14:31:22.912151+00:00', parent_config={'configurable': {'thread_id': '1', 'checkpoint_ns': '', 'checkpoint_id': '1f035871-a733-6fe8-8002-f99948a1f6a9'}}, tasks=(PregelTask(id='32838c40-f6dd-2fb8-c9f6-70bd82c7e047', name='chatbot', path=('__pregel_pull', 'chatbot'), error=None, interrupts=(), state=None, result={'messages': [AIMessage(content='Nice to meet you, Reema!', additional_kwargs={}, response_metadata={'prompt_feedback': {'block_reason': 0, 'safety_ratings': []}, 'finish_reason': 'STOP', 'safety_ratings': []}, id='run--e2b10413-b7c9-4b22-84a0-ea983e81b984-0', usage_metadata={'input_tokens': 74, 'output_tokens': 9, 'total_tokens': 83, 'input_token_details': {'cache_read': 0}})]}),), interrupts=()),\n",
       " StateSnapshot(values={'messages': [HumanMessage(content='Do u know my name?', additional_kwargs={}, response_metadata={}, id='8969c2c0-2856-4366-ae13-41d48937051b'), AIMessage(content='I do not have access to personal information. As a large language model, I respect your privacy.', additional_kwargs={}, response_metadata={'prompt_feedback': {'block_reason': 0, 'safety_ratings': []}, 'finish_reason': 'STOP', 'safety_ratings': []}, id='run--7a9993a4-13f2-4bb2-a6b5-d22c8c9f5cd0-0', usage_metadata={'input_tokens': 49, 'output_tokens': 21, 'total_tokens': 70, 'input_token_details': {'cache_read': 0}})]}, next=('__start__',), config={'configurable': {'thread_id': '1', 'checkpoint_ns': '', 'checkpoint_id': '1f035871-a733-6fe8-8002-f99948a1f6a9'}}, metadata={'source': 'input', 'writes': {'__start__': {'messages': [{'role': 'user', 'content': 'My name is Reema'}]}}, 'step': 2, 'parents': {}, 'thread_id': '1'}, created_at='2025-05-20T14:31:22.910284+00:00', parent_config={'configurable': {'thread_id': '1', 'checkpoint_ns': '', 'checkpoint_id': '1f035871-60c4-6684-8001-6d6b2072baf2'}}, tasks=(PregelTask(id='fb0e1f1e-82f8-bef3-2c94-b261b0d09847', name='__start__', path=('__pregel_pull', '__start__'), error=None, interrupts=(), state=None, result={'messages': [{'role': 'user', 'content': 'My name is Reema'}]}),), interrupts=()),\n",
       " StateSnapshot(values={'messages': [HumanMessage(content='Do u know my name?', additional_kwargs={}, response_metadata={}, id='8969c2c0-2856-4366-ae13-41d48937051b'), AIMessage(content='I do not have access to personal information. As a large language model, I respect your privacy.', additional_kwargs={}, response_metadata={'prompt_feedback': {'block_reason': 0, 'safety_ratings': []}, 'finish_reason': 'STOP', 'safety_ratings': []}, id='run--7a9993a4-13f2-4bb2-a6b5-d22c8c9f5cd0-0', usage_metadata={'input_tokens': 49, 'output_tokens': 21, 'total_tokens': 70, 'input_token_details': {'cache_read': 0}})]}, next=(), config={'configurable': {'thread_id': '1', 'checkpoint_ns': '', 'checkpoint_id': '1f035871-60c4-6684-8001-6d6b2072baf2'}}, metadata={'source': 'loop', 'writes': {'chatbot': {'messages': [AIMessage(content='I do not have access to personal information. As a large language model, I respect your privacy.', additional_kwargs={}, response_metadata={'prompt_feedback': {'block_reason': 0, 'safety_ratings': []}, 'finish_reason': 'STOP', 'safety_ratings': []}, id='run--7a9993a4-13f2-4bb2-a6b5-d22c8c9f5cd0-0', usage_metadata={'input_tokens': 49, 'output_tokens': 21, 'total_tokens': 70, 'input_token_details': {'cache_read': 0}})]}}, 'step': 1, 'parents': {}, 'thread_id': '1'}, created_at='2025-05-20T14:31:15.524550+00:00', parent_config={'configurable': {'thread_id': '1', 'checkpoint_ns': '', 'checkpoint_id': '1f035871-58a2-63fc-8000-2d4e91fef19b'}}, tasks=(), interrupts=()),\n",
       " StateSnapshot(values={'messages': [HumanMessage(content='Do u know my name?', additional_kwargs={}, response_metadata={}, id='8969c2c0-2856-4366-ae13-41d48937051b')]}, next=('chatbot',), config={'configurable': {'thread_id': '1', 'checkpoint_ns': '', 'checkpoint_id': '1f035871-58a2-63fc-8000-2d4e91fef19b'}}, metadata={'source': 'loop', 'writes': None, 'step': 0, 'parents': {}, 'thread_id': '1'}, created_at='2025-05-20T14:31:14.671694+00:00', parent_config={'configurable': {'thread_id': '1', 'checkpoint_ns': '', 'checkpoint_id': '1f035871-589f-6b2a-bfff-dc4bb1d786c3'}}, tasks=(PregelTask(id='9ac35000-842e-f023-775a-4dce3ba5b096', name='chatbot', path=('__pregel_pull', 'chatbot'), error=None, interrupts=(), state=None, result={'messages': [AIMessage(content='I do not have access to personal information. As a large language model, I respect your privacy.', additional_kwargs={}, response_metadata={'prompt_feedback': {'block_reason': 0, 'safety_ratings': []}, 'finish_reason': 'STOP', 'safety_ratings': []}, id='run--7a9993a4-13f2-4bb2-a6b5-d22c8c9f5cd0-0', usage_metadata={'input_tokens': 49, 'output_tokens': 21, 'total_tokens': 70, 'input_token_details': {'cache_read': 0}})]}),), interrupts=()),\n",
       " StateSnapshot(values={'messages': []}, next=('__start__',), config={'configurable': {'thread_id': '1', 'checkpoint_ns': '', 'checkpoint_id': '1f035871-589f-6b2a-bfff-dc4bb1d786c3'}}, metadata={'source': 'input', 'writes': {'__start__': {'messages': [{'role': 'user', 'content': 'Do u know my name?'}]}}, 'step': -1, 'parents': {}, 'thread_id': '1'}, created_at='2025-05-20T14:31:14.670662+00:00', parent_config=None, tasks=(PregelTask(id='444f5b32-2dee-86a7-9ce6-1ed2df763f1e', name='__start__', path=('__pregel_pull', '__start__'), error=None, interrupts=(), state=None, result={'messages': [{'role': 'user', 'content': 'Do u know my name?'}]}),), interrupts=())]"
      ]
     },
     "execution_count": 35,
     "metadata": {},
     "output_type": "execute_result"
    }
   ],
   "source": [
    "# Most recent first\n",
    "\n",
    "list(graph.get_state_history(config))"
   ]
  },
  {
   "cell_type": "markdown",
   "metadata": {},
   "source": [
    "### LangGraph gives you tools to set the state back to a prior point in time, to branch off:\n",
    "\n",
    "```\n",
    "config = {\"configurable\": {\"thread_id\": \"1\", \"checkpoint_id\": ...}}\n",
    "graph.invoke(None, config=config)\n",
    "```\n",
    "\n",
    "And this allows you to build stable systems that can be recovered and rerun from any prior checkpoint."
   ]
  },
  {
   "cell_type": "markdown",
   "metadata": {},
   "source": [
    "### And now let's store in SQL\n",
    "\n",
    "### And this is the power of LangGraph."
   ]
  },
  {
   "cell_type": "code",
   "execution_count": 39,
   "metadata": {},
   "outputs": [],
   "source": [
    "import sqlite3\n",
    "from langgraph.checkpoint.sqlite import SqliteSaver\n",
    "\n",
    "db_path = \"memory.db\"\n",
    "conn = sqlite3.connect(db_path, check_same_thread=False)\n",
    "sql_memory = SqliteSaver(conn)"
   ]
  },
  {
   "cell_type": "code",
   "execution_count": 40,
   "metadata": {},
   "outputs": [
    {
     "data": {
      "image/png": "[encoded data removed]",
      "text/plain": [
       "<IPython.core.display.Image object>"
      ]
     },
     "metadata": {},
     "output_type": "display_data"
    }
   ],
   "source": [
    "# Steps 1 and 2\n",
    "graph_builder = StateGraph(State)\n",
    "\n",
    "\n",
    "# Step 3\n",
    "# llm = ChatOpenAI(model=\"gpt-4o-mini\")\n",
    "# llm_with_tools = llm.bind_tools(tools)\n",
    "\n",
    "def chatbot(state: State):\n",
    "    print(state)\n",
    "    return {\"messages\": [llm_with_tools.invoke(state[\"messages\"])]}\n",
    "\n",
    "graph_builder.add_node(\"chatbot\", chatbot)\n",
    "graph_builder.add_node(\"tools\", ToolNode(tools=tools))\n",
    "\n",
    "# Step 4\n",
    "graph_builder.add_conditional_edges( \"chatbot\", tools_condition, \"tools\")\n",
    "graph_builder.add_edge(\"tools\", \"chatbot\")\n",
    "graph_builder.add_edge(START, \"chatbot\")\n",
    "\n",
    "# Step 5\n",
    "graph = graph_builder.compile(checkpointer=sql_memory)\n",
    "display(Image(graph.get_graph().draw_mermaid_png()))\n",
    " "
   ]
  },
  {
   "cell_type": "code",
   "execution_count": 41,
   "metadata": {},
   "outputs": [
    {
     "name": "stdout",
     "output_type": "stream",
     "text": [
      "* Running on local URL:  http://127.0.0.1:7869\n",
      "* To create a public link, set `share=True` in `launch()`.\n"
     ]
    },
    {
     "data": {
      "text/html": [
       "<div><iframe src=\"http://127.0.0.1:7869/\" width=\"100%\" height=\"500\" allow=\"autoplay; camera; microphone; clipboard-read; clipboard-write;\" frameborder=\"0\" allowfullscreen></iframe></div>"
      ],
      "text/plain": [
       "<IPython.core.display.HTML object>"
      ]
     },
     "metadata": {},
     "output_type": "display_data"
    },
    {
     "data": {
      "text/plain": []
     },
     "execution_count": 41,
     "metadata": {},
     "output_type": "execute_result"
    },
    {
     "name": "stdout",
     "output_type": "stream",
     "text": [
      "{'messages': [HumanMessage(content='hi... do u know my name?', additional_kwargs={}, response_metadata={}, id='3e4fdfdd-4153-4f9c-be7e-863624499ba6')]}\n",
      "{'messages': [HumanMessage(content='hi... do u know my name?', additional_kwargs={}, response_metadata={}, id='3e4fdfdd-4153-4f9c-be7e-863624499ba6'), AIMessage(content=\"I do not have access to personal information, so I don't know your name.\", additional_kwargs={}, response_metadata={'prompt_feedback': {'block_reason': 0, 'safety_ratings': []}, 'finish_reason': 'STOP', 'safety_ratings': []}, id='run--165dc732-707b-4c4f-990a-68a58cc05516-0', usage_metadata={'input_tokens': 51, 'output_tokens': 19, 'total_tokens': 70, 'input_token_details': {'cache_read': 0}}), HumanMessage(content='My name is reema', additional_kwargs={}, response_metadata={}, id='31b4d9da-84bc-461e-9c7b-6f3efc6109df')]}\n"
     ]
    }
   ],
   "source": [
    "config = {\"configurable\": {\"thread_id\": \"3\"}}\n",
    "\n",
    "def chat(user_input: str, history):\n",
    "    result = graph.invoke({\"messages\": [{\"role\": \"user\", \"content\": user_input}]}, config=config)\n",
    "    return result[\"messages\"][-1].content\n",
    "\n",
    "\n",
    "gr.ChatInterface(chat, type=\"messages\").launch()"
   ]
  },
  {
   "cell_type": "code",
   "execution_count": null,
   "metadata": {},
   "outputs": [],
   "source": []
  }
 ],
 "metadata": {
  "kernelspec": {
   "display_name": ".venv",
   "language": "python",
   "name": "python3"
  },
  "language_info": {
   "codemirror_mode": {
    "name": "ipython",
    "version": 3
   },
   "file_extension": ".py",
   "mimetype": "text/x-python",
   "name": "python",
   "nbconvert_exporter": "python",
   "pygments_lexer": "ipython3",
   "version": "3.12.10"
  }
 },
 "nbformat": 4,
 "nbformat_minor": 2
}
